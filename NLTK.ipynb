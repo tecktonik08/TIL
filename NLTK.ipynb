{
  "nbformat": 4,
  "nbformat_minor": 0,
  "metadata": {
    "colab": {
      "name": "NLTK.ipynb",
      "provenance": [],
      "authorship_tag": "ABX9TyNffge7bED3o+llfrCFs138"
    },
    "kernelspec": {
      "name": "python3",
      "display_name": "Python 3"
    },
    "language_info": {
      "name": "python"
    }
  },
  "cells": [
    {
      "cell_type": "code",
      "metadata": {
        "id": "iVdo0x4nbxXU"
      },
      "source": [
        "# example = \"Family is not an important thing. It's everything. He has large house.\"\n",
        "example = \"A barber is a person. a barber is good person. a barber is huge person. he Knew A Secret! The Secret He Kept is huge secret. Huge secret. His barber kept his word. a barber kept his word. His barber kept his secret. But keeping and keeping such a huge secret to himself was driving the barber crazy. the barber went up a huge mountain.\""
      ],
      "execution_count": 1,
      "outputs": []
    },
    {
      "cell_type": "code",
      "metadata": {
        "colab": {
          "base_uri": "https://localhost:8080/"
        },
        "id": "ozPPmPMdTH7D",
        "outputId": "d33ae0a0-f8e5-44e9-d13d-ea8f1c8d4644"
      },
      "source": [
        "import nltk\n",
        "nltk.download('punkt')\n",
        "nltk.download('stopwords')"
      ],
      "execution_count": 2,
      "outputs": [
        {
          "output_type": "stream",
          "text": [
            "[nltk_data] Downloading package punkt to /root/nltk_data...\n",
            "[nltk_data]   Unzipping tokenizers/punkt.zip.\n",
            "[nltk_data] Downloading package stopwords to /root/nltk_data...\n",
            "[nltk_data]   Unzipping corpora/stopwords.zip.\n"
          ],
          "name": "stdout"
        },
        {
          "output_type": "execute_result",
          "data": {
            "text/plain": [
              "True"
            ]
          },
          "metadata": {
            "tags": []
          },
          "execution_count": 2
        }
      ]
    },
    {
      "cell_type": "code",
      "metadata": {
        "colab": {
          "base_uri": "https://localhost:8080/"
        },
        "id": "9AV2heOBTlnl",
        "outputId": "1d9b56e1-ef37-4d8c-895b-a1382578177a"
      },
      "source": [
        "tok_words = nltk.tokenize.word_tokenize(example)\n",
        "print(tok_words)"
      ],
      "execution_count": 3,
      "outputs": [
        {
          "output_type": "stream",
          "text": [
            "['A', 'barber', 'is', 'a', 'person', '.', 'a', 'barber', 'is', 'good', 'person', '.', 'a', 'barber', 'is', 'huge', 'person', '.', 'he', 'Knew', 'A', 'Secret', '!', 'The', 'Secret', 'He', 'Kept', 'is', 'huge', 'secret', '.', 'Huge', 'secret', '.', 'His', 'barber', 'kept', 'his', 'word', '.', 'a', 'barber', 'kept', 'his', 'word', '.', 'His', 'barber', 'kept', 'his', 'secret', '.', 'But', 'keeping', 'and', 'keeping', 'such', 'a', 'huge', 'secret', 'to', 'himself', 'was', 'driving', 'the', 'barber', 'crazy', '.', 'the', 'barber', 'went', 'up', 'a', 'huge', 'mountain', '.']\n"
          ],
          "name": "stdout"
        }
      ]
    },
    {
      "cell_type": "markdown",
      "metadata": {
        "id": "sdC3BtjvWM1n"
      },
      "source": [
        "불필요 단어 제거(179개)"
      ]
    },
    {
      "cell_type": "code",
      "metadata": {
        "colab": {
          "base_uri": "https://localhost:8080/"
        },
        "id": "Yo5DIHYVT4px",
        "outputId": "9e561cc7-679b-4dcc-d45d-51a298d6754b"
      },
      "source": [
        "stop_words = nltk.corpus.stopwords.words('english')\n",
        "len(stop_words)"
      ],
      "execution_count": 4,
      "outputs": [
        {
          "output_type": "execute_result",
          "data": {
            "text/plain": [
              "179"
            ]
          },
          "metadata": {
            "tags": []
          },
          "execution_count": 4
        }
      ]
    },
    {
      "cell_type": "markdown",
      "metadata": {
        "id": "FWu-if75YL4E"
      },
      "source": [
        "불용어 추가"
      ]
    },
    {
      "cell_type": "code",
      "metadata": {
        "colab": {
          "base_uri": "https://localhost:8080/"
        },
        "id": "tYMzLRJLYJgg",
        "outputId": "9c3c5b76-cd3c-4304-cfde-258a20f810ec"
      },
      "source": [
        "stop_words.extend(['.'])\n",
        "len(stop_words)"
      ],
      "execution_count": 5,
      "outputs": [
        {
          "output_type": "execute_result",
          "data": {
            "text/plain": [
              "180"
            ]
          },
          "metadata": {
            "tags": []
          },
          "execution_count": 5
        }
      ]
    },
    {
      "cell_type": "code",
      "metadata": {
        "colab": {
          "base_uri": "https://localhost:8080/"
        },
        "id": "KPf3ic2UZEzz",
        "outputId": "0c4067ec-72c7-4f0a-c4dc-7a66977638ee"
      },
      "source": [
        "stop_words = set(stop_words)\n",
        "len(stop_words)"
      ],
      "execution_count": 6,
      "outputs": [
        {
          "output_type": "execute_result",
          "data": {
            "text/plain": [
              "180"
            ]
          },
          "metadata": {
            "tags": []
          },
          "execution_count": 6
        }
      ]
    },
    {
      "cell_type": "code",
      "metadata": {
        "colab": {
          "base_uri": "https://localhost:8080/"
        },
        "id": "ugLC13H0VQBf",
        "outputId": "710a50cb-f975-4f28-db59-7d1e9cfaec1d"
      },
      "source": [
        "data_words = []\n",
        "\n",
        "for tok in tok_words:\n",
        "  if tok not in stop_words:\n",
        "    data_words.append(tok)\n",
        "\n",
        "print(data_words)"
      ],
      "execution_count": 7,
      "outputs": [
        {
          "output_type": "stream",
          "text": [
            "['A', 'barber', 'person', 'barber', 'good', 'person', 'barber', 'huge', 'person', 'Knew', 'A', 'Secret', '!', 'The', 'Secret', 'He', 'Kept', 'huge', 'secret', 'Huge', 'secret', 'His', 'barber', 'kept', 'word', 'barber', 'kept', 'word', 'His', 'barber', 'kept', 'secret', 'But', 'keeping', 'keeping', 'huge', 'secret', 'driving', 'barber', 'crazy', 'barber', 'went', 'huge', 'mountain']\n"
          ],
          "name": "stdout"
        }
      ]
    },
    {
      "cell_type": "markdown",
      "metadata": {
        "id": "43hYYyCHbCBJ"
      },
      "source": [
        "단어의 원형 보여주기(과거형, 복수, 3인칭 -> 기본형)"
      ]
    },
    {
      "cell_type": "code",
      "metadata": {
        "id": "z0DscBYfXw2G"
      },
      "source": [
        "lemm = nltk.stem.WordNetLemmatizer()"
      ],
      "execution_count": 8,
      "outputs": []
    },
    {
      "cell_type": "code",
      "metadata": {
        "colab": {
          "base_uri": "https://localhost:8080/"
        },
        "id": "Md0QC2Rga31D",
        "outputId": "aae1c0ba-c558-4520-e0a9-1e33d6973850"
      },
      "source": [
        "nltk.download('wordnet')"
      ],
      "execution_count": 9,
      "outputs": [
        {
          "output_type": "stream",
          "text": [
            "[nltk_data] Downloading package wordnet to /root/nltk_data...\n",
            "[nltk_data]   Unzipping corpora/wordnet.zip.\n"
          ],
          "name": "stdout"
        },
        {
          "output_type": "execute_result",
          "data": {
            "text/plain": [
              "True"
            ]
          },
          "metadata": {
            "tags": []
          },
          "execution_count": 9
        }
      ]
    },
    {
      "cell_type": "code",
      "metadata": {
        "colab": {
          "base_uri": "https://localhost:8080/"
        },
        "id": "gao_a0RpaLq7",
        "outputId": "5cd77f3b-3761-4eab-bbc0-0e9ccbb4afb2"
      },
      "source": [
        "for tok in tok_words:\n",
        "  print(tok, ':', lemm.lemmatize(tok))"
      ],
      "execution_count": 10,
      "outputs": [
        {
          "output_type": "stream",
          "text": [
            "A : A\n",
            "barber : barber\n",
            "is : is\n",
            "a : a\n",
            "person : person\n",
            ". : .\n",
            "a : a\n",
            "barber : barber\n",
            "is : is\n",
            "good : good\n",
            "person : person\n",
            ". : .\n",
            "a : a\n",
            "barber : barber\n",
            "is : is\n",
            "huge : huge\n",
            "person : person\n",
            ". : .\n",
            "he : he\n",
            "Knew : Knew\n",
            "A : A\n",
            "Secret : Secret\n",
            "! : !\n",
            "The : The\n",
            "Secret : Secret\n",
            "He : He\n",
            "Kept : Kept\n",
            "is : is\n",
            "huge : huge\n",
            "secret : secret\n",
            ". : .\n",
            "Huge : Huge\n",
            "secret : secret\n",
            ". : .\n",
            "His : His\n",
            "barber : barber\n",
            "kept : kept\n",
            "his : his\n",
            "word : word\n",
            ". : .\n",
            "a : a\n",
            "barber : barber\n",
            "kept : kept\n",
            "his : his\n",
            "word : word\n",
            ". : .\n",
            "His : His\n",
            "barber : barber\n",
            "kept : kept\n",
            "his : his\n",
            "secret : secret\n",
            ". : .\n",
            "But : But\n",
            "keeping : keeping\n",
            "and : and\n",
            "keeping : keeping\n",
            "such : such\n",
            "a : a\n",
            "huge : huge\n",
            "secret : secret\n",
            "to : to\n",
            "himself : himself\n",
            "was : wa\n",
            "driving : driving\n",
            "the : the\n",
            "barber : barber\n",
            "crazy : crazy\n",
            ". : .\n",
            "the : the\n",
            "barber : barber\n",
            "went : went\n",
            "up : up\n",
            "a : a\n",
            "huge : huge\n",
            "mountain : mountain\n",
            ". : .\n"
          ],
          "name": "stdout"
        }
      ]
    },
    {
      "cell_type": "code",
      "metadata": {
        "colab": {
          "base_uri": "https://localhost:8080/",
          "height": 35
        },
        "id": "0LPSuwpYa6Lx",
        "outputId": "1729be75-6b9f-47f2-dc84-6f5615f9fa05"
      },
      "source": [
        "lemm.lemmatize('likes')"
      ],
      "execution_count": 11,
      "outputs": [
        {
          "output_type": "execute_result",
          "data": {
            "application/vnd.google.colaboratory.intrinsic+json": {
              "type": "string"
            },
            "text/plain": [
              "'like'"
            ]
          },
          "metadata": {
            "tags": []
          },
          "execution_count": 11
        }
      ]
    },
    {
      "cell_type": "code",
      "metadata": {
        "id": "LHO5X3KfbT40"
      },
      "source": [
        ""
      ],
      "execution_count": 11,
      "outputs": []
    }
  ]
}